{
 "cells": [
  {
   "cell_type": "markdown",
   "id": "f58c290d",
   "metadata": {},
   "source": [
    "#  Impot necessary library"
   ]
  },
  {
   "cell_type": "code",
   "execution_count": 1,
   "id": "aa7aff92",
   "metadata": {},
   "outputs": [],
   "source": [
    "import cv2\n",
    "import pyautogui as pag\n"
   ]
  },
  {
   "cell_type": "markdown",
   "id": "2e5b1a23",
   "metadata": {},
   "source": [
    "# defining variable for import necessary packages"
   ]
  },
  {
   "cell_type": "code",
   "execution_count": 2,
   "id": "5f7500aa",
   "metadata": {},
   "outputs": [],
   "source": [
    "prediction = False\n",
    "init_trackbar = False\n",
    "trackbar_val = False\n",
    "hsv_color = False\n",
    "fps = False\n",
    "face_finder = False\n",
    "face_mesh = False\n",
    "face_distance = False\n",
    "find_hands = True\n",
    "fingers = True\n",
    "fingers_distance = True"
   ]
  },
  {
   "cell_type": "markdown",
   "id": "02966376",
   "metadata": {},
   "source": [
    "# importing cvzone modules"
   ]
  },
  {
   "cell_type": "code",
   "execution_count": 3,
   "id": "20954acd",
   "metadata": {},
   "outputs": [],
   "source": [
    "if (prediction == True):\n",
    "    from cvzone.ClassificationModule import getPredictions\n",
    "if (trackbar_val == True):\n",
    "    from cvzone.ColorModule import getTrackbarValues\n",
    "if (find_hands == True):\n",
    "    from cvzone.HandTrackingModule import HandDetector\n"
   ]
  },
  {
   "cell_type": "markdown",
   "id": "cdeefd86",
   "metadata": {},
   "source": [
    "# Function to get list for fingers"
   ]
  },
  {
   "cell_type": "code",
   "execution_count": 4,
   "id": "731d18f5",
   "metadata": {},
   "outputs": [],
   "source": [
    "def fingerList(fingers = \"TIMRP\"):\n",
    "    List = [0,0,0,0,0]\n",
    "    for i in range(len(fingers)):\n",
    "        if fingers[i] == \"T\":\n",
    "            List[0] = 1\n",
    "        elif fingers[i] == \"I\":\n",
    "            List[1] = 1\n",
    "        elif fingers[i] == \"M\":\n",
    "            List[2] = 1\n",
    "        elif fingers[i] == \"R\":\n",
    "            List[3] = 1\n",
    "        elif fingers[i] == \"P\":\n",
    "            List[4] = 1\n",
    "    \n",
    "    return List"
   ]
  },
  {
   "cell_type": "markdown",
   "id": "2850a154",
   "metadata": {},
   "source": [
    "# function to set specific gesture to the key and hand."
   ]
  },
  {
   "cell_type": "markdown",
   "id": "aad0f734",
   "metadata": {},
   "source": [
    "This function take 4 keywords.\n"
   ]
  },
  {
   "cell_type": "markdown",
   "id": "2fc19485",
   "metadata": {},
   "source": [
    "key :- which key to press. Ex. - \"up\", \"down\" etc. It must be in string."
   ]
  },
  {
   "cell_type": "markdown",
   "id": "38303d3a",
   "metadata": {},
   "source": [
    "gesture :-  which gesture to set. Ex. - \"one\", \"two\" etc. This name must be from gestures_list ."
   ]
  },
  {
   "cell_type": "markdown",
   "id": "193ea820",
   "metadata": {},
   "source": [
    "hand :- which hand to detect right or left. Ex - \"Right\", \"Left\". Starting letter must be in Capital letter."
   ]
  },
  {
   "cell_type": "markdown",
   "id": "e2bb66ca",
   "metadata": {},
   "source": [
    "category :- in this we define it should be pressed or down the key. Ex. - \"press\", \"down\". "
   ]
  },
  {
   "cell_type": "code",
   "execution_count": 5,
   "id": "c4e50367",
   "metadata": {},
   "outputs": [],
   "source": [
    "def setKeyGesture(key = \"\", gesture = \"\", hand = \"Right\",category = \"\"):\n",
    "    rightFinger = []\n",
    "    leftFinger = []\n",
    "    if (hand == \"Right\"):\n",
    "        if handType1 == \"Right\":\n",
    "            rightHand = hand1\n",
    "            rightFinger = hand_detector.fingersUp(rightHand)\n",
    "        elif handType2 == \"Right\":\n",
    "            rightHand = hand2\n",
    "            rightFinger = hand_detector.fingersUp(rightHand)\n",
    "        \n",
    "        if rightFinger:\n",
    "            if (rightFinger == gestures_list[gesture]):\n",
    "                pag.keyDown(key)\n",
    "            elif (rightFinger != gestures_list[gesture]):\n",
    "                pag.keyUp(key)\n",
    "\n",
    "                        \n",
    "            \n",
    "    elif (hand == \"Left\"):\n",
    "        if (handType1 == \"Left\"):\n",
    "            leftHand = hand1\n",
    "            leftFinger = hand_detector.fingersUp(leftHand)\n",
    "        elif (handType2 == \"Left\"):\n",
    "            leftHand = hand2\n",
    "            leftFinger = hand_detector.fingersUp(leftHand)\n",
    "        if leftFinger:\n",
    "            if (leftFinger == gestures_list[gesture]):\n",
    "                pag.press(key)\n",
    "            elif (leftFinger != gestures_list[gesture]):\n",
    "                pag.keyUp(key)\n",
    "    \n",
    "\n",
    "           "
   ]
  },
  {
   "cell_type": "markdown",
   "id": "6edc18fb",
   "metadata": {},
   "source": [
    "# Defining gestures"
   ]
  },
  {
   "cell_type": "code",
   "execution_count": 6,
   "id": "02b27fff",
   "metadata": {},
   "outputs": [],
   "source": [
    "gestures_list = {\n",
    "    \"thumb\" : fingerList(\"T\"),\n",
    "    \"index\" : fingerList(\"I\"),\n",
    "    \"middle\" : fingerList(\"M\"),\n",
    "    \"ring\" : fingerList(\"R\"),\n",
    "    \"pinkie\" : fingerList(\"P\"),\n",
    "    \"zero\" : fingerList(\"\"),\n",
    "    \"one\" : fingerList(\"I\"),\n",
    "    \"two\" : fingerList(\"IM\"),\n",
    "    \"three\" : fingerList(\"IMR\"),\n",
    "    \"four\" : fingerList(\"IMRP\"),\n",
    "    \"five\" : fingerList(\"IMRPT\"),\n",
    "    \"gun\" : fingerList(\"IMT\"),\n",
    "    \"nice\" : fingerList(\"MRP\"),\n",
    "    \"rocking\" : fingerList(\"IP\"),\n",
    "    \"call\" : fingerList(\"TP\")\n",
    "}"
   ]
  },
  {
   "cell_type": "markdown",
   "id": "1086ba47",
   "metadata": {},
   "source": [
    "# Getting all thing done ( detecting )"
   ]
  },
  {
   "cell_type": "markdown",
   "id": "03e186e3",
   "metadata": {},
   "source": [
    "[1] Firstly we have read videa and detect hand"
   ]
  },
  {
   "cell_type": "markdown",
   "id": "bc41d4d0",
   "metadata": {},
   "source": [
    "[2] Then if hand1 has given first hand (or the right hand) and landmarks,bounding box , center point ,hand type  are stored in lmList1, bbox1, centerPoint1, handType1.\n"
   ]
  },
  {
   "cell_type": "markdown",
   "id": "52e97d52",
   "metadata": {},
   "source": [
    "[3] Then we detect fingers and stores in fingers1"
   ]
  },
  {
   "cell_type": "markdown",
   "id": "b33e8bb0",
   "metadata": {},
   "source": [
    "[4] If there are 2 hands then similar to process 2 we assigned different values to variable with 2 is last on the name of variable"
   ]
  },
  {
   "cell_type": "markdown",
   "id": "9c61681c",
   "metadata": {},
   "source": [
    "[5] Using setKeyGesture we set certain key to be pressed when a fixed gesture is detected."
   ]
  },
  {
   "cell_type": "markdown",
   "id": "acc2f9c7",
   "metadata": {},
   "source": [
    "[6] Then we have written some code to move mouse cursor and click ."
   ]
  },
  {
   "cell_type": "markdown",
   "id": "aade5f93",
   "metadata": {},
   "source": [
    "[7] To move cursor show both hands . All fingers of left hand must be down and all fingures of right of hand must be up."
   ]
  },
  {
   "cell_type": "markdown",
   "id": "4ab37842",
   "metadata": {},
   "source": [
    "[8] To click all fingures of right and left must be down."
   ]
  },
  {
   "cell_type": "markdown",
   "id": "3e05c346",
   "metadata": {},
   "source": [
    "[9] In the last we have shown image and when user click esc key from keyboard it will terminate the program."
   ]
  },
  {
   "cell_type": "code",
   "execution_count": 7,
   "id": "7ba06f27",
   "metadata": {},
   "outputs": [
    {
     "name": "stdout",
     "output_type": "stream",
     "text": [
      "Code has been terminated\n"
     ]
    }
   ],
   "source": [
    "cap = cv2.VideoCapture(0)\n",
    "hand_detector = HandDetector(detectionCon=0.8, maxHands=2)\n",
    "\n",
    "try:\n",
    "    while True:\n",
    "        _, img = cap.read()\n",
    "        hands, img=hand_detector.findHands(img)\n",
    "        if hands:\n",
    "            hand1 = hands[0]\n",
    "            lmList1 = hand1[\"lmList\"]  \n",
    "            bbox1 = hand1[\"bbox\"]  \n",
    "            centerPoint1 = hand1['center']  \n",
    "            handType1 = hand1[\"type\"]  \n",
    "            fingers1 = hand_detector.fingersUp(hand1)\n",
    "\n",
    "            if (len(hands)==2):\n",
    "                hand2 = hands[1]\n",
    "                lmList2 = hand2[\"lmList\"]  \n",
    "                bbox2 = hand2[\"bbox\"]  \n",
    "                centerPoint2 = hand2['center']  \n",
    "                handType2 = hand2[\"type\"]  \n",
    "                fingers2 = hand_detector.fingersUp(hand2)\n",
    "            setKeyGesture(key = \"up\", gesture = \"one\", hand = \"Right\" ,category = \"press\")\n",
    "            setKeyGesture(key = \"down\", gesture = \"two\", hand = \"Right\" ,category = \"press\")\n",
    "            setKeyGesture(key = \"right\", gesture = \"three\",hand = \"Right\" , category = \"press\")\n",
    "            setKeyGesture(key = \"left\", gesture = \"four\", hand = \"Right\" ,category = \"press\")\n",
    "\n",
    "\n",
    "            if (len(hands)==2):    \n",
    "                if (handType1 == \"Right\"):\n",
    "                    x = centerPoint1[0]\n",
    "                    y = centerPoint1[1]\n",
    "                    x = 1800 -3*x\n",
    "                    y = 3*y \n",
    "\n",
    "                    if ((fingers2 == [0,0,0,0,0]) and (fingers1 == [1,1,1,1,1])):\n",
    "                        pag.moveTo(x,y)\n",
    "                    elif ((fingers2 == [0,0,0,0,0]) and (fingers1 == [0,0,0,0,0])):\n",
    "                        pag.click()\n",
    "\n",
    "\n",
    "                elif (handType2 == \"Right\"):\n",
    "                    x = centerPoint2[0]\n",
    "                    y = centerPoint2[1]\n",
    "                    x = 1800 -3*x\n",
    "                    y = 3*y \n",
    "                    if ((fingers1 == [0,0,0,0,0]) and (fingers2 == [1,1,1,1,1])):\n",
    "                        pag.moveTo(x,y)\n",
    "                    elif ((fingers2 == [0,0,0,0,0]) and (fingers1 == [0,0,0,0,0])):\n",
    "                        pag.click()\n",
    "\n",
    "        cv2.imshow(\"Image\", img)\n",
    "\n",
    "        k = cv2.waitKey(30) & 0xff\n",
    "        if k == 27:\n",
    "            break    \n",
    "\n",
    "    cap.release()\n",
    "    cv2.destroyAllWindows()\n",
    "except:\n",
    "    print(\"Code has been terminated\")"
   ]
  },
  {
   "cell_type": "code",
   "execution_count": null,
   "id": "8a689758",
   "metadata": {},
   "outputs": [],
   "source": []
  }
 ],
 "metadata": {
  "kernelspec": {
   "display_name": "Python 3 (ipykernel)",
   "language": "python",
   "name": "python3"
  },
  "language_info": {
   "codemirror_mode": {
    "name": "ipython",
    "version": 3
   },
   "file_extension": ".py",
   "mimetype": "text/x-python",
   "name": "python",
   "nbconvert_exporter": "python",
   "pygments_lexer": "ipython3",
   "version": "3.9.13"
  }
 },
 "nbformat": 4,
 "nbformat_minor": 5
}
